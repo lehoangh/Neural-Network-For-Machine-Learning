{
 "cells": [
  {
   "cell_type": "markdown",
   "metadata": {},
   "source": [
    "# Question 5\n",
    "$$z_1=w_1x_1+w_2x_2$$\n",
    "$$z_2=w_3x_2+w_4x_3$$\n",
    "$$h_1=\\sigma(z_1)$$\n",
    "$$h_2=\\sigma(z_2)$$\n",
    "$$y=u_1h_1+u_2h_2$$\n",
    "$$E=\\frac{1}{2}(t-y)^2$$\n"
   ]
  }
 ],
 "metadata": {
  "kernelspec": {
   "display_name": "Python 3",
   "language": "python",
   "name": "python3"
  },
  "language_info": {
   "codemirror_mode": {
    "name": "ipython",
    "version": 3
   },
   "file_extension": ".py",
   "mimetype": "text/x-python",
   "name": "python",
   "nbconvert_exporter": "python",
   "pygments_lexer": "ipython3",
   "version": "3.6.0"
  }
 },
 "nbformat": 4,
 "nbformat_minor": 2
}
