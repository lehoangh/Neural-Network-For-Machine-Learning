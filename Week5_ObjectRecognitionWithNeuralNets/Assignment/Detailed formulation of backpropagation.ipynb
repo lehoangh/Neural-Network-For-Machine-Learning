{
 "cells": [
  {
   "cell_type": "markdown",
   "metadata": {},
   "source": [
    "# The formulation of backpropagation"
   ]
  },
  {
   "cell_type": "markdown",
   "metadata": {},
   "source": [
    "![algo](algo.png)\n",
    "whereby $j$ is the index denoting **any** of the $K$ output neurons - exception of the output layer ($y$).  \n",
    "$$o_j=\\sigma(j)$$\n",
    "We use the cross-entropy cost function (cross-entropy loss function):\n",
    "$$E=-log($$\n",
    "For the output layer:\n",
    "The derivative of the error function w.r.t output layer's state:\n",
    "$$\\frac{\\partial E}{\\partial y}=y-t$$\n",
    "The gradient of the weights connected between the hidden layer and the output layer (excluding the bias element):\n",
    "$$\\frac{\\partial E}{\\partial w_{h->y}}=$$"
   ]
  }
 ],
 "metadata": {
  "kernelspec": {
   "display_name": "Python 3",
   "language": "python",
   "name": "python3"
  },
  "language_info": {
   "codemirror_mode": {
    "name": "ipython",
    "version": 3
   },
   "file_extension": ".py",
   "mimetype": "text/x-python",
   "name": "python",
   "nbconvert_exporter": "python",
   "pygments_lexer": "ipython3",
   "version": "3.6.0"
  }
 },
 "nbformat": 4,
 "nbformat_minor": 2
}
